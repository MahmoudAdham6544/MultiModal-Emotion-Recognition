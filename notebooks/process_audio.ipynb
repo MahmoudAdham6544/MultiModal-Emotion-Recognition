{
 "cells": [
  {
   "cell_type": "code",
   "execution_count": null,
   "id": "f6d965af",
   "metadata": {},
   "outputs": [],
   "source": [
    "import os\n",
    "import librosa\n",
    "\n",
    "output_parent_dir_songs = r'../data/Processed/Audio_Song_MFCC'\n",
    "output_parent_dir_speech = r'../data/Processed/Audio_Speech_MFCC'\n",
    "os.makedirs(output_parent_dir_songs, exist_ok=True)\n",
    "os.makedirs(output_parent_dir_speech, exist_ok=True)\n",
    "\n",
    "# Load the Haar cascade file for face detection\n",
    "songs_path = r'../data/Unprocessed/Audio_Song_Actors'\n",
    "speech_path = r'../data/Unprocessed/Audio_Speech_Actors'\n",
    "for actor in os.listdir(songs_path):\n",
    "    os.makedirs(output_parent_dir_songs +'/'+ actor, exist_ok=True) #Create an output directory for each actor\n",
    "    for actor_sub in os.listdir(songs_path +'/'+ actor):\n",
    "        for video in os.listdir(songs_path +'/'+ actor +'/'+ actor_sub):\n",
    "            output_dir = output_parent_dir_songs + '/' + actor + '/' + video[:-4] #Remove the .wav extension\n",
    "            os.makedirs(output_dir, exist_ok=True) #Create an output directory for each audio\n",
    "            y, sr = librosa.load('file.wav')\n",
    "            mfcc = librosa.feature.mfcc(y=y, sr=sr, n_mfcc=20)\n",
    "            \n",
    "        print(\"Done extracting Handling Audio for {actor_sub}\")"
   ]
  }
 ],
 "metadata": {
  "language_info": {
   "name": "python"
  }
 },
 "nbformat": 4,
 "nbformat_minor": 5
}

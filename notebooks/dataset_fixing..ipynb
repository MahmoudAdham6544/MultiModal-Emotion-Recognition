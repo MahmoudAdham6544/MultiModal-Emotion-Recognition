{
 "cells": [
  {
   "cell_type": "code",
   "execution_count": 1,
   "id": "b3d2cd81",
   "metadata": {},
   "outputs": [],
   "source": [
    "import os\n",
    "import numpy as np\n",
    "import shutil\n",
    "\n",
    "audio_dr = r\"../data/Processed/processed_audio.npy\""
   ]
  },
  {
   "cell_type": "code",
   "execution_count": 7,
   "id": "40dfcdc7",
   "metadata": {},
   "outputs": [],
   "source": [
    "audio_arr = np.load(audio_dr, allow_pickle=True)\n",
    "names_list = [item[1] for item in audio_arr]\n",
    "\n",
    "edited_names = np.array([item[3:] for item in names_list])\n"
   ]
  },
  {
   "cell_type": "code",
   "execution_count": 8,
   "id": "c96bee0e",
   "metadata": {},
   "outputs": [],
   "source": [
    "removed_names = np.delete(audio_arr,1 , axis=1)\n",
    "removed_names = removed_names.flatten()\n",
    "edited_dataset = np.column_stack((removed_names,edited_names))"
   ]
  },
  {
   "cell_type": "code",
   "execution_count": 9,
   "id": "962de9b9",
   "metadata": {},
   "outputs": [],
   "source": [
    "source_dir = r\"../data/Processed/Video_Actor_Faces/\"\n",
    "dest_dir = r\"../data/Processed/faces\"\n",
    "\n",
    "for filename in os.listdir(source_dir):\n",
    "    path = os.path.join(source_dir, filename)\n",
    "    for sub_folder in os.listdir(path):\n",
    "        source_path = os.path.join(path, sub_folder)\n",
    "        destination_path = os.path.join(dest_dir, sub_folder)\n",
    "\n",
    "        # Move each file\n",
    "        shutil.move(source_path, destination_path)"
   ]
  },
  {
   "cell_type": "code",
   "execution_count": null,
   "id": "a213af44",
   "metadata": {},
   "outputs": [],
   "source": [
    "for filename in os.listdir(dest_dir):\n",
    "    old_name = os.path.join(dest_dir, filename)\n",
    "    new_name = os.path.join(dest_dir, filename[3:])\n",
    "    os.rename(old_name, new_name)"
   ]
  },
  {
   "cell_type": "code",
   "execution_count": 5,
   "id": "c23fce93",
   "metadata": {},
   "outputs": [],
   "source": [
    "source_dir = r\"../data/Processed/Video_Actor_Faces/\"\n",
    "dest_dir = r\"../data/Processed/faces\"\n",
    "for filename in os.listdir(dest_dir):\n",
    "    if(len(filename) > 18):\n",
    "        shutil.rmtree(os.path.join(dest_dir, filename))"
   ]
  },
  {
   "cell_type": "code",
   "execution_count": 14,
   "id": "7c231e77",
   "metadata": {},
   "outputs": [],
   "source": [
    "#emotions (01 = neutral, 02 = calm, 03 = happy, 04 = sad, 05 = angry, 06 = fearful, 07 = disgust, 08 = surprised).\n",
    "labels = np.array([item[4] for _ , item in edited_dataset])\n",
    "final_dataset = np.column_stack((edited_dataset,labels))\n",
    "np.save(r\"../data/Processed/final_dataset.npy\", final_dataset, allow_pickle=True)"
   ]
  },
  {
   "cell_type": "code",
   "execution_count": null,
   "id": "912cf9fc",
   "metadata": {},
   "outputs": [],
   "source": []
  }
 ],
 "metadata": {
  "kernelspec": {
   "display_name": "emo_recog",
   "language": "python",
   "name": "python3"
  },
  "language_info": {
   "codemirror_mode": {
    "name": "ipython",
    "version": 3
   },
   "file_extension": ".py",
   "mimetype": "text/x-python",
   "name": "python",
   "nbconvert_exporter": "python",
   "pygments_lexer": "ipython3",
   "version": "3.13.2"
  }
 },
 "nbformat": 4,
 "nbformat_minor": 5
}

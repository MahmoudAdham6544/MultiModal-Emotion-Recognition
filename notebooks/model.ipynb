{
 "cells": [
  {
   "cell_type": "code",
   "execution_count": 1,
   "id": "8bc66d79",
   "metadata": {},
   "outputs": [],
   "source": [
    "import torch\n",
    "import torch.nn as nn\n",
    "import torchvision.models as models\n",
    "\n",
    "class VisualBackbone(nn.Module):\n",
    "    def __init__(self, embed_dim=256):\n",
    "        super().__init__()\n",
    "        resnet = models.resnet18(pretrained=True)\n",
    "        self.cnn = nn.Sequential(*list(resnet.children())[:-1])  # output: (B, 512, 1, 1)\n",
    "        self.fc = nn.Linear(512, embed_dim)\n",
    "\n",
    "    def forward(self, x_seq):  # x_seq: (B, T, 3, H, W)\n",
    "        B, T, C, H, W = x_seq.shape\n",
    "        x_seq = x_seq.view(B * T, C, H, W)\n",
    "        features = self.cnn(x_seq)       # (B*T, 512, 1, 1)\n",
    "        features = features.view(B, T, -1).mean(dim=1)  # average over time\n",
    "        return self.fc(features)         # (B, embed_dim)\n",
    "\n",
    "class AudioBranch(nn.Module):\n",
    "    def __init__(self, embed_dim=256):\n",
    "        super().__init__()\n",
    "        self.lstm = nn.LSTM(input_size=40, hidden_size=128, num_layers=2, batch_first=True, bidirectional=True)\n",
    "        self.fc = nn.Linear(128 * 2, embed_dim)\n",
    "\n",
    "    def forward(self, x):  # x: (B, 1, 40, T)\n",
    "        x = x.squeeze(1).permute(0, 2, 1)  # → (B, T, 40)\n",
    "        _, (hn, _) = self.lstm(x)         # hn shape: (4, B, 128)\n",
    "        out = torch.cat((hn[-2], hn[-1]), dim=1)  # (B, 256)\n",
    "        return self.fc(out)               # (B, embed_dim)\n",
    "\n",
    "class MultimodalEmotionRecognizer(nn.Module):\n",
    "    def __init__(self, num_classes=4, embed_dim=256):\n",
    "        super().__init__()\n",
    "        self.visual_branch = VisualBackbone(embed_dim)\n",
    "        self.audio_branch = AudioBranch(embed_dim)\n",
    "        self.classifier = nn.Sequential(\n",
    "            nn.Linear(embed_dim * 2, 128),\n",
    "            nn.ReLU(),\n",
    "            nn.Dropout(0.3),\n",
    "            nn.Linear(128, num_classes)\n",
    "        )\n",
    "\n",
    "    def forward(self, face_seq, mfcc):\n",
    "        visual_feat = self.visual_branch(face_seq)  # (B, embed_dim)\n",
    "        audio_feat  = self.audio_branch(mfcc)       # (B, embed_dim)\n",
    "        fused = torch.cat((visual_feat, audio_feat), dim=1)\n",
    "        return self.classifier(fused)"
   ]
  },
  {
   "cell_type": "code",
   "execution_count": 2,
   "id": "ed006c7a",
   "metadata": {},
   "outputs": [
    {
     "name": "stderr",
     "output_type": "stream",
     "text": [
      "c:\\Users\\mahmo\\anaconda3\\envs\\emo_recog\\Lib\\site-packages\\torchvision\\models\\_utils.py:208: UserWarning: The parameter 'pretrained' is deprecated since 0.13 and may be removed in the future, please use 'weights' instead.\n",
      "  warnings.warn(\n",
      "c:\\Users\\mahmo\\anaconda3\\envs\\emo_recog\\Lib\\site-packages\\torchvision\\models\\_utils.py:223: UserWarning: Arguments other than a weight enum or `None` for 'weights' are deprecated since 0.13 and may be removed in the future. The current behavior is equivalent to passing `weights=ResNet18_Weights.IMAGENET1K_V1`. You can also use `weights=ResNet18_Weights.DEFAULT` to get the most up-to-date weights.\n",
      "  warnings.warn(msg)\n",
      "Downloading: \"https://download.pytorch.org/models/resnet18-f37072fd.pth\" to C:\\Users\\mahmo/.cache\\torch\\hub\\checkpoints\\resnet18-f37072fd.pth\n",
      "100%|██████████| 44.7M/44.7M [00:00<00:00, 70.8MB/s]\n"
     ]
    },
    {
     "name": "stdout",
     "output_type": "stream",
     "text": [
      "torch.Size([2, 4])\n"
     ]
    }
   ],
   "source": [
    "model = MultimodalEmotionRecognizer(num_classes=4)\n",
    "x_img = torch.randn(2, 5, 3, 224, 224)\n",
    "x_mfcc = torch.randn(2, 1, 40, 100)\n",
    "out = model(x_img, x_mfcc)\n",
    "print(out.shape)  # should be (2, 4)"
   ]
  },
  {
   "cell_type": "code",
   "execution_count": null,
   "id": "f9ce4a64",
   "metadata": {},
   "outputs": [],
   "source": []
  }
 ],
 "metadata": {
  "kernelspec": {
   "display_name": "emo_recog",
   "language": "python",
   "name": "python3"
  },
  "language_info": {
   "codemirror_mode": {
    "name": "ipython",
    "version": 3
   },
   "file_extension": ".py",
   "mimetype": "text/x-python",
   "name": "python",
   "nbconvert_exporter": "python",
   "pygments_lexer": "ipython3",
   "version": "3.13.2"
  }
 },
 "nbformat": 4,
 "nbformat_minor": 5
}
